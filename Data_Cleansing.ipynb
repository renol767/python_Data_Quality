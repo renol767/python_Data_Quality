{
 "cells": [
  {
   "cell_type": "code",
   "execution_count": 1,
   "id": "b6c46ca6",
   "metadata": {},
   "outputs": [],
   "source": [
    "import pandas as pd\n",
    "import numpy as np\n",
    "import io\n",
    "import pandas_profiling\n",
    "retail_raw = pd.read_csv('retail_raw_reduced_data_quality.csv')"
   ]
  },
  {
   "cell_type": "code",
   "execution_count": 2,
   "id": "28f886b8",
   "metadata": {},
   "outputs": [
    {
     "name": "stdout",
     "output_type": "stream",
     "text": [
      "Check kolom yang memiliki missing data:\n",
      "order_id       False\n",
      "order_date     False\n",
      "customer_id    False\n",
      "city            True\n",
      "province        True\n",
      "product_id      True\n",
      "brand          False\n",
      "quantity        True\n",
      "item_price      True\n",
      "dtype: bool\n",
      "\n",
      "Filling the missing value (quantity):\n",
      "0       10.0\n",
      "1        2.0\n",
      "2        8.0\n",
      "3        4.0\n",
      "4        2.0\n",
      "        ... \n",
      "4995     2.0\n",
      "4996     3.0\n",
      "4997     4.0\n",
      "4998     8.0\n",
      "4999     1.0\n",
      "Name: quantity, Length: 5000, dtype: float64\n",
      "\n",
      "Drop missing value:\n",
      "0       10.0\n",
      "1        2.0\n",
      "2        8.0\n",
      "3        4.0\n",
      "4        2.0\n",
      "        ... \n",
      "4995     2.0\n",
      "4996     3.0\n",
      "4997     4.0\n",
      "4998     8.0\n",
      "4999     1.0\n",
      "Name: quantity, Length: 4986, dtype: float64\n"
     ]
    }
   ],
   "source": [
    "# Check kolom yang memiliki missing data\n",
    "print('Check kolom yang memiliki missing data:')\n",
    "print(retail_raw.isnull().any())\n",
    "\n",
    "# Filling the missing value (quantity)\n",
    "print('\\nFilling the missing value (quantity):')\n",
    "print(retail_raw['quantity'].fillna(retail_raw.quantity.mean()))\n",
    "\n",
    "# Drop missing value\n",
    "print('\\nDrop missing value:')\n",
    "print(retail_raw['quantity'].dropna())"
   ]
  },
  {
   "cell_type": "code",
   "execution_count": 3,
   "id": "0dd7cebc",
   "metadata": {},
   "outputs": [
    {
     "name": "stdout",
     "output_type": "stream",
     "text": [
      "0       7.400000e+05\n",
      "1       6.040000e+05\n",
      "2       1.045000e+06\n",
      "3       2.050000e+05\n",
      "4       9.337427e+05\n",
      "            ...     \n",
      "4995    4.500000e+05\n",
      "4996    1.465000e+06\n",
      "4997    7.470000e+05\n",
      "4998    6.950000e+05\n",
      "4999    1.045000e+06\n",
      "Name: item_price, Length: 5000, dtype: float64\n"
     ]
    }
   ],
   "source": [
    "# Filling missing value item_price\n",
    "print(retail_raw['item_price'].fillna(retail_raw['item_price'].mean()))"
   ]
  },
  {
   "cell_type": "code",
   "execution_count": 4,
   "id": "7333837d",
   "metadata": {},
   "outputs": [
    {
     "name": "stdout",
     "output_type": "stream",
     "text": [
      "Shape awal:  (5000, 9)\n",
      "Shape akhir:  (4699, 9)\n"
     ]
    }
   ],
   "source": [
    "# Q1, Q3, dan IQR\n",
    "Q1 = retail_raw['quantity'].quantile(0.25)\n",
    "Q3 = retail_raw['quantity'].quantile(0.75)\n",
    "IQR = Q3 - Q1\n",
    "\n",
    "# Check ukuran (baris dan kolom) sebelum data yang outliers dibuang\n",
    "print('Shape awal: ', retail_raw.shape)\n",
    "\n",
    "# Removing outliers\n",
    "retail_raw = retail_raw[~((retail_raw['quantity'] < (Q1 - 1.5 * IQR)) | (retail_raw['quantity'] > (Q3 + 1.5 * IQR)))]\n",
    "\n",
    "# Check ukuran (baris dan kolom) setelah data yang outliers dibuang\n",
    "print('Shape akhir: ', retail_raw.shape)"
   ]
  },
  {
   "cell_type": "code",
   "execution_count": 5,
   "id": "28b5f490",
   "metadata": {},
   "outputs": [
    {
     "name": "stdout",
     "output_type": "stream",
     "text": [
      "Shape awal:  (4699, 9)\n",
      "Shape akhir:  (4379, 9)\n"
     ]
    }
   ],
   "source": [
    "# Q1, Q3, dan IQR\n",
    "Q1 = retail_raw['item_price'].quantile(0.25)\n",
    "Q3 = retail_raw['item_price'].quantile(0.75)\n",
    "IQR = Q3 - Q1\n",
    "\n",
    "# Check ukuran (baris dan kolom) sebelum data yang outliers dibuang\n",
    "print('Shape awal: ', retail_raw.shape)\n",
    "\n",
    "# Removing outliers\n",
    "retail_raw = retail_raw[~((retail_raw['item_price'] < (Q1 - 1.5 * IQR)) | \n",
    "                          (retail_raw['item_price'] > (Q3 + 1.5 * IQR)))]\n",
    "\n",
    "# Check ukuran (baris dan kolom) setelah data yang outliers dibuang\n",
    "print('Shape akhir: ', retail_raw.shape)"
   ]
  },
  {
   "cell_type": "code",
   "execution_count": 6,
   "id": "ccad4d6e",
   "metadata": {},
   "outputs": [
    {
     "name": "stdout",
     "output_type": "stream",
     "text": [
      "Shape awal:  (4379, 9)\n",
      "Shape akhir:  (4373, 9)\n"
     ]
    }
   ],
   "source": [
    "# Check ukuran (baris dan kolom) sebelum data duplikasi dibuang\n",
    "print('Shape awal: ', retail_raw.shape)\n",
    "\n",
    "# Mengecek duplikasi data\n",
    "retail_raw.duplicated(subset=None)\n",
    "\n",
    "# Buang data yang terduplikasi\n",
    "retail_raw.drop_duplicates(inplace=True)\n",
    "\n",
    "# Check ukuran (baris dan kolom) setelah data duplikasi dibuang\n",
    "print('Shape akhir: ', retail_raw.shape)"
   ]
  }
 ],
 "metadata": {
  "kernelspec": {
   "display_name": "Python 3",
   "language": "python",
   "name": "python3"
  },
  "language_info": {
   "codemirror_mode": {
    "name": "ipython",
    "version": 3
   },
   "file_extension": ".py",
   "mimetype": "text/x-python",
   "name": "python",
   "nbconvert_exporter": "python",
   "pygments_lexer": "ipython3",
   "version": "3.9.1"
  }
 },
 "nbformat": 4,
 "nbformat_minor": 5
}
